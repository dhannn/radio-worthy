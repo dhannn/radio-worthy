{
 "cells": [
  {
   "cell_type": "markdown",
   "metadata": {},
   "source": [
    "# Exploratory Data Analysis\n",
    "To get a sense of the data we're working with, we can use exploratory data analysis to our data. Specifically, here are some questions we can answer:\n",
    "\n",
    "1. Who are the top artists throughout the decade?\n",
    "1. How does the distribution of the artists change throughout the decades? Is it easier or harder to break into the charts nowadays?\n",
    "1. How does longevity (weeks on board) on the charts change throughout the decades? Do charting songs last longer now than it did before?\n",
    "1. How do the different audio features change over the decade?"
   ]
  },
  {
   "cell_type": "markdown",
   "metadata": {},
   "source": [
    "Since we already serialized the cleaned `DataFrame`, we can use this to explore the data and answer our questions."
   ]
  },
  {
   "cell_type": "code",
   "execution_count": null,
   "metadata": {},
   "outputs": [],
   "source": [
    "%cd .."
   ]
  },
  {
   "cell_type": "code",
   "execution_count": null,
   "metadata": {},
   "outputs": [],
   "source": [
    "import pandas as pd\n",
    "cleaned_charts_df = pd.read_pickle('./data/pkls/charts_with_audio_features_df.pkl')"
   ]
  },
  {
   "cell_type": "markdown",
   "metadata": {},
   "source": [
    "## Top artists per decade\n",
    "There are different ways to interpret this investigation. One is to look at total weeks charting. If an artist is relevant through the decades, they must have staying power in the charts. Another way is to look at the number of entries in the chart. More outputs or songs charting means that an artist may capture the heart of the masses."
   ]
  },
  {
   "cell_type": "markdown",
   "metadata": {},
   "source": [
    "### By total weeks charting\n",
    "Here we see the top 10 artists who have the highest total weeks on board. The 60s are dominated by The Beach Boys, The Temptations and Brenda Lee. The 70s are dominated by Bee Gees, Carpenters and Stevie Wonder. Kool & The Gang, Lionel Richie and Madonna dominated the 80s while Mariah Carey, TLC and Boyz II Men dominated the 90s. In the 2000s, Nickelback, 3 Doors Down and Taylor Swift had the longest weeks charting while 2010s saw, once again, Taylor Swift, Drake and Imagine Dragons."
   ]
  },
  {
   "cell_type": "code",
   "execution_count": null,
   "metadata": {},
   "outputs": [],
   "source": [
    "total_weeks_on_board = cleaned_charts_df[['decade', 'artist', 'weeks-on-board']].groupby(['decade', 'artist'], as_index=False).agg('sum')\n",
    "total_weeks_on_board = total_weeks_on_board.sort_values(by=['decade', 'weeks-on-board'], ascending=[True, False]).groupby('decade').head(5)\n",
    "total_weeks_on_board"
   ]
  },
  {
   "cell_type": "markdown",
   "metadata": {},
   "source": [
    "Visually, we can see an upward trend on the longevity of songs in the charts with the 2010s being the most drastic increase probably due to the addition of streaming platforms in the latter half of the decade."
   ]
  },
  {
   "cell_type": "code",
   "execution_count": null,
   "metadata": {},
   "outputs": [],
   "source": [
    "total_weeks_on_board.plot(x='artist', y='weeks-on-board', kind ='bar')"
   ]
  },
  {
   "cell_type": "markdown",
   "metadata": {},
   "source": [
    "### By number of entries"
   ]
  },
  {
   "cell_type": "markdown",
   "metadata": {},
   "source": [
    "As for basing this metric on the number of entries, we have similar results albeit different results."
   ]
  },
  {
   "cell_type": "code",
   "execution_count": null,
   "metadata": {},
   "outputs": [],
   "source": [
    "entries = cleaned_charts_df[['decade', 'artist']].groupby(['decade', 'artist'], as_index=False).size()\n",
    "entries = entries.sort_values(by=['decade', 'size'], ascending=[True, False]).groupby('decade').head(5)\n",
    "entries"
   ]
  },
  {
   "cell_type": "markdown",
   "metadata": {},
   "source": [
    "Like the previous metric, we see a drastic change in the 2010s. Again, this may be attributed to the rise of streaming and how it makes it easy to stream specific songs."
   ]
  },
  {
   "cell_type": "code",
   "execution_count": null,
   "metadata": {},
   "outputs": [],
   "source": [
    "entries.plot(x='artist', y='size', kind ='bar')"
   ]
  },
  {
   "cell_type": "markdown",
   "metadata": {},
   "source": [
    "To reiterate, it is important to remember that this might not reflect the truest record because of the limitations stated in the earlier notebook. Simply, interpret this result as a snapshot of each decades."
   ]
  },
  {
   "cell_type": "markdown",
   "metadata": {},
   "source": [
    "## Distribution of artist\n",
    "Another interesting aspect we might want to explore is the distribution of artists throughout the decade. Is it easier for newer artists to break in to the industry? Or are there clear icons that are cemented in each decade?\n",
    "\n",
    "We can count the unique number of artists in each decade to answer this."
   ]
  },
  {
   "cell_type": "code",
   "execution_count": null,
   "metadata": {},
   "outputs": [],
   "source": [
    "artist_distribution = cleaned_charts_df[['decade', 'artist']].groupby('decade').count()\n",
    "artist_distribution"
   ]
  },
  {
   "cell_type": "markdown",
   "metadata": {},
   "source": [
    "As we can see in the plot, there seems to be an increase of artists from the 60s up to the 80s. The turning point in this is the 90s and 2000s where it sees a sharp decrease. \n",
    "\n",
    "One possible reason for this is the rise of the MTV generation. In the latter half of 90s and early 2000s, it isn't simply about the music anymore. Society has cemented cultural icons via music videos and televised performances. Think Lady Gaga and Katy Perry. With this, it is much harder to break into the industry as there are already recognized popstars.\n",
    "\n",
    "However in 2010s, it seems to improve a bit. This may due to the democratization of production and distribution. Through social media, Spotify and Tiktok, breakout stars are more common with the likes of Doja Cat, Olivia Rodrigo, Billie Eillish and Noah Kahan."
   ]
  },
  {
   "cell_type": "code",
   "execution_count": null,
   "metadata": {},
   "outputs": [],
   "source": [
    "artist_distribution.plot()"
   ]
  },
  {
   "cell_type": "markdown",
   "metadata": {},
   "source": [
    "## Longevity of songs on the chart\n",
    "\n",
    "Next we explore how long an average song lasts within each decade. Here, we summarize it with three possible metrics: mean, median and the standard deviation."
   ]
  },
  {
   "cell_type": "code",
   "execution_count": null,
   "metadata": {},
   "outputs": [],
   "source": [
    "longevity_per_decade = cleaned_charts_df[['decade', 'weeks-on-board']].groupby('decade').agg(['mean', 'median', 'std'])\n",
    "longevity_per_decade"
   ]
  },
  {
   "cell_type": "markdown",
   "metadata": {},
   "source": [
    "Up until the 90s, we see that the songs last longer on average. We also see that the mean and median are close to each other which may signify that the distribution is normal (not a guarantee, however).\n",
    "\n",
    "The 2000s become the peak but in this decade, we see that the mean is lower than the median. This may signify that many songs chart in fewer weeks than most, skewing the mean and the distribution lower.\n",
    "\n",
    "It is also interesting to note that the standard deviation increases as well, indicating that songs have a wider range of staying power."
   ]
  },
  {
   "cell_type": "code",
   "execution_count": null,
   "metadata": {},
   "outputs": [],
   "source": [
    "longevity_per_decade.plot()"
   ]
  },
  {
   "cell_type": "markdown",
   "metadata": {},
   "source": [
    "## Audio features throughout the decade\n",
    "### Duration of songs per decade\n",
    "Here we plot how the average duration changes throughout the decades."
   ]
  },
  {
   "cell_type": "code",
   "execution_count": null,
   "metadata": {},
   "outputs": [],
   "source": [
    "duration_ms_per_decade = cleaned_charts_df[['decade', 'duration_ms']].groupby('decade').aggregate(['mean', 'median', 'std'])['duration_ms']\n",
    "duration_ms_per_decade"
   ]
  },
  {
   "cell_type": "markdown",
   "metadata": {},
   "source": [
    "From 1960s up to 1990s, songs seem to become longer while the remaining decades saw a decrease in the length of a song. This might be attributed to the rise of streaming. Streaming incentivizes artists to make songs shorter as shorter songs can be streamed more times than longer ones. TikTok might also affect the average length of songs in the latter half of 2010s. "
   ]
  },
  {
   "cell_type": "code",
   "execution_count": null,
   "metadata": {},
   "outputs": [],
   "source": [
    "duration_ms_per_decade.plot()"
   ]
  },
  {
   "cell_type": "markdown",
   "metadata": {},
   "source": [
    "### Average Danceability per decade\n",
    "To aid with getting the audio features, we can use a script to abstract the details."
   ]
  },
  {
   "cell_type": "code",
   "execution_count": null,
   "metadata": {},
   "outputs": [],
   "source": [
    "import src.eda as eda"
   ]
  },
  {
   "cell_type": "markdown",
   "metadata": {},
   "source": [
    "Here we can get the average danceability for songs in each decade."
   ]
  },
  {
   "cell_type": "code",
   "execution_count": null,
   "metadata": {},
   "outputs": [],
   "source": [
    "danceability_per_decade = eda.get_audio_feature_summary(cleaned_charts_df, 'danceability')\n",
    "danceability_per_decade"
   ]
  },
  {
   "cell_type": "markdown",
   "metadata": {},
   "source": [
    "As you can see in the plot, danceability does not have drasatic changes unlike the features we explored so far. The distribution is also fairly distributed. This indicates that, in every decade, the masses favor danceable tracks more than those that are not."
   ]
  },
  {
   "cell_type": "code",
   "execution_count": null,
   "metadata": {},
   "outputs": [],
   "source": [
    "danceability_per_decade.plot()"
   ]
  },
  {
   "cell_type": "markdown",
   "metadata": {},
   "source": [
    "### Average Energy per decade\n",
    "Let's explore the average energy of charting songs per decade."
   ]
  },
  {
   "cell_type": "code",
   "execution_count": null,
   "metadata": {},
   "outputs": [],
   "source": [
    "energy_per_decade = eda.get_audio_feature_summary(cleaned_charts_df, 'energy')\n",
    "energy_per_decade"
   ]
  },
  {
   "cell_type": "markdown",
   "metadata": {},
   "source": [
    "Unlike danceability, there has been a steady increase of energy from the 60s up until the 2000s. The 2010s saw a dip in energy which may be attributed to the rise of mellow indie pop with the likes of Lorde and Lana Del Ray."
   ]
  },
  {
   "cell_type": "code",
   "execution_count": null,
   "metadata": {},
   "outputs": [],
   "source": [
    "energy_per_decade.plot()"
   ]
  },
  {
   "cell_type": "markdown",
   "metadata": {},
   "source": [
    "### Average Loudness per decade\n",
    "Next, let's see how the average loudness changes throughout the decade."
   ]
  },
  {
   "cell_type": "code",
   "execution_count": null,
   "metadata": {},
   "outputs": [],
   "source": [
    "loudness_per_decade = eda.get_audio_feature_summary(cleaned_charts_df, 'loudness')\n",
    "loudness_per_decade"
   ]
  },
  {
   "cell_type": "markdown",
   "metadata": {},
   "source": [
    "Up until the 80s, we saw loudness pretty low and stagnant. After that era, the average loudness steadily increased which may be attributed to what musicians coined as the *loudness war*. In this, we saw producers use heavy compression, equalization and plain audio gain to accommodate newer mediums of music consumption.\n",
    "\n",
    "This is more evident when re-recorded or remastered versions of a song are compared with each other."
   ]
  },
  {
   "cell_type": "code",
   "execution_count": null,
   "metadata": {},
   "outputs": [],
   "source": [
    "loudness_per_decade.plot()"
   ]
  },
  {
   "cell_type": "markdown",
   "metadata": {},
   "source": [
    "### Average Acousticness per decade\n",
    "Let us see how acousticness changes throughout the decade."
   ]
  },
  {
   "cell_type": "code",
   "execution_count": null,
   "metadata": {},
   "outputs": [],
   "source": [
    "acousticness_per_decade = eda.get_audio_feature_summary(cleaned_charts_df, 'acousticness')\n",
    "acousticness_per_decade"
   ]
  },
  {
   "cell_type": "markdown",
   "metadata": {},
   "source": [
    "Expectedly, the 60s and 70s saw the consumers enjoying acoustic tracks. While it was on a decline, the 80s was the elbow tipping point since the 80s saw the rise of synthesizers and drum pads. The heavy use of sythesizers continue throughout the rest of the decade with other new technological innovations. Such innovation includes autotune which have been used stylistically."
   ]
  },
  {
   "cell_type": "code",
   "execution_count": null,
   "metadata": {},
   "outputs": [],
   "source": [
    "acousticness_per_decade.plot()"
   ]
  },
  {
   "cell_type": "markdown",
   "metadata": {},
   "source": [
    "### Average Valence per decade\n",
    "Finally, let's explore how positive the average songs in each decade were."
   ]
  },
  {
   "cell_type": "code",
   "execution_count": null,
   "metadata": {},
   "outputs": [],
   "source": [
    "valence_per_decade = eda.get_audio_feature_summary(cleaned_charts_df, 'valence')\n",
    "valence_per_decade"
   ]
  },
  {
   "cell_type": "markdown",
   "metadata": {},
   "source": [
    "Up until the 80s, valence seems to be more on the positive side. After the 80s, music saw a steady decline of valence. This may be unexpected results especially for the late 2000s and early 2010s where electronic dance music and other electropop subgenres emerged. Around that time, however, mellower versions of pop (like the aforementioned Lorde and Lana Del Ray) represent some of the songs in those decades."
   ]
  },
  {
   "cell_type": "code",
   "execution_count": null,
   "metadata": {},
   "outputs": [],
   "source": [
    "valence_per_decade.plot()"
   ]
  },
  {
   "cell_type": "markdown",
   "metadata": {},
   "source": [
    "# Research Question\n",
    "With our initial exploratory analysis in mind, we can create a research question that can be solved by statistical modelling and simulation.\n",
    "\n",
    "Since we saw how each decade finds different audio features, perhaps we can find specific categories that signify that a song could be a hit in a particular era. In this case, we need a clustering technique to do it.\n",
    "\n",
    "With this, our research question would be:\n",
    "- What are the types or clusters of songs that are charting in each decade of the Billboard Hot 100?"
   ]
  }
 ],
 "metadata": {
  "kernelspec": {
   "display_name": "Python 3",
   "language": "python",
   "name": "python3"
  },
  "language_info": {
   "codemirror_mode": {
    "name": "ipython",
    "version": 3
   },
   "file_extension": ".py",
   "mimetype": "text/x-python",
   "name": "python",
   "nbconvert_exporter": "python",
   "pygments_lexer": "ipython3",
   "version": "3.10.7"
  }
 },
 "nbformat": 4,
 "nbformat_minor": 2
}
